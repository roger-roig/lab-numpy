{
 "cells": [
  {
   "cell_type": "markdown",
   "metadata": {},
   "source": [
    "#1. Import the NUMPY package under the name np.\n"
   ]
  },
  {
   "cell_type": "code",
   "execution_count": 1,
   "metadata": {},
   "outputs": [],
   "source": [
    "import numpy as np"
   ]
  },
  {
   "cell_type": "markdown",
   "metadata": {},
   "source": [
    "#2. Print the NUMPY version and the configuration.\n"
   ]
  },
  {
   "cell_type": "code",
   "execution_count": 2,
   "metadata": {},
   "outputs": [
    {
     "name": "stdout",
     "output_type": "stream",
     "text": [
      "1.15.4\n"
     ]
    }
   ],
   "source": [
    "print(np.version.version)"
   ]
  },
  {
   "cell_type": "markdown",
   "metadata": {},
   "source": [
    "#3. Generate a 2x3x5 3-dimensional array with random values. Assign the array to variable \"a\"\n"
   ]
  },
  {
   "cell_type": "code",
   "execution_count": 16,
   "metadata": {},
   "outputs": [
    {
     "data": {
      "text/plain": [
       "array([[[0.23302493, 0.2106332 , 0.06869775, 0.42805628, 0.14081903],\n",
       "        [0.59865867, 0.42951329, 0.77598043, 0.44024705, 0.00227167],\n",
       "        [0.07560286, 0.60910701, 0.81596811, 0.90093984, 0.79891051]],\n",
       "\n",
       "       [[0.23787472, 0.33592264, 0.58078739, 0.07210151, 0.67419901],\n",
       "        [0.93488717, 0.06290454, 0.84101317, 0.2299838 , 0.94528327],\n",
       "        [0.28812127, 0.96417427, 0.81572125, 0.07778779, 0.15411512]]])"
      ]
     },
     "execution_count": 16,
     "metadata": {},
     "output_type": "execute_result"
    }
   ],
   "source": [
    "a = np.random.random((2,3,5))\n",
    "a"
   ]
  },
  {
   "cell_type": "code",
   "execution_count": 15,
   "metadata": {},
   "outputs": [
    {
     "data": {
      "text/plain": [
       "array([[[7, 7, 8, 4, 3],\n",
       "        [2, 6, 9, 7, 1],\n",
       "        [6, 0, 2, 8, 7]],\n",
       "\n",
       "       [[7, 3, 3, 4, 9],\n",
       "        [2, 0, 3, 6, 4],\n",
       "        [2, 9, 5, 2, 2]]])"
      ]
     },
     "execution_count": 15,
     "metadata": {},
     "output_type": "execute_result"
    }
   ],
   "source": [
    "b = np.random.randint(0,10,((2,3,5)))\n",
    "b"
   ]
  },
  {
   "cell_type": "markdown",
   "metadata": {},
   "source": [
    "#### Challenge: there are at least three easy ways that use numpy to generate random arrays. How many ways can you find?\n"
   ]
  },
  {
   "cell_type": "markdown",
   "metadata": {},
   "source": [
    "#4. Print a.\n"
   ]
  },
  {
   "cell_type": "code",
   "execution_count": 17,
   "metadata": {},
   "outputs": [
    {
     "data": {
      "text/plain": [
       "array([[[0.23302493, 0.2106332 , 0.06869775, 0.42805628, 0.14081903],\n",
       "        [0.59865867, 0.42951329, 0.77598043, 0.44024705, 0.00227167],\n",
       "        [0.07560286, 0.60910701, 0.81596811, 0.90093984, 0.79891051]],\n",
       "\n",
       "       [[0.23787472, 0.33592264, 0.58078739, 0.07210151, 0.67419901],\n",
       "        [0.93488717, 0.06290454, 0.84101317, 0.2299838 , 0.94528327],\n",
       "        [0.28812127, 0.96417427, 0.81572125, 0.07778779, 0.15411512]]])"
      ]
     },
     "execution_count": 17,
     "metadata": {},
     "output_type": "execute_result"
    }
   ],
   "source": [
    "a"
   ]
  },
  {
   "cell_type": "markdown",
   "metadata": {},
   "source": [
    "#5. Create a 5x3x2 3-dimensional array with all values equaling 1.\n",
    "#Assign the array to variable \"b\"\n",
    "\n"
   ]
  },
  {
   "cell_type": "code",
   "execution_count": 65,
   "metadata": {},
   "outputs": [],
   "source": [
    "b = np.ones(30).reshape(5,3,2)"
   ]
  },
  {
   "cell_type": "markdown",
   "metadata": {},
   "source": [
    "#6. Print b.\n"
   ]
  },
  {
   "cell_type": "code",
   "execution_count": 66,
   "metadata": {},
   "outputs": [
    {
     "data": {
      "text/plain": [
       "array([[[1., 1.],\n",
       "        [1., 1.],\n",
       "        [1., 1.]],\n",
       "\n",
       "       [[1., 1.],\n",
       "        [1., 1.],\n",
       "        [1., 1.]],\n",
       "\n",
       "       [[1., 1.],\n",
       "        [1., 1.],\n",
       "        [1., 1.]],\n",
       "\n",
       "       [[1., 1.],\n",
       "        [1., 1.],\n",
       "        [1., 1.]],\n",
       "\n",
       "       [[1., 1.],\n",
       "        [1., 1.],\n",
       "        [1., 1.]]])"
      ]
     },
     "execution_count": 66,
     "metadata": {},
     "output_type": "execute_result"
    }
   ],
   "source": [
    "b"
   ]
  },
  {
   "cell_type": "markdown",
   "metadata": {},
   "source": [
    "#7. Do a and b have the same size? How do you prove that in Python code?\n"
   ]
  },
  {
   "cell_type": "code",
   "execution_count": 67,
   "metadata": {},
   "outputs": [
    {
     "data": {
      "text/plain": [
       "True"
      ]
     },
     "execution_count": 67,
     "metadata": {},
     "output_type": "execute_result"
    }
   ],
   "source": [
    "# They have (30 values), although the shapes are different.\n",
    "a.size == b.size"
   ]
  },
  {
   "cell_type": "markdown",
   "metadata": {},
   "source": [
    "#8. Are you able to add a and b? Why or why not?\n"
   ]
  },
  {
   "cell_type": "code",
   "execution_count": 22,
   "metadata": {},
   "outputs": [],
   "source": [
    "# It is not possible since the shapes are different.\n",
    "# When attempting it the following error pops up: \n",
    "# ValueError: operands could not be broadcast together with shapes (2,3,5) (5,2,3) "
   ]
  },
  {
   "cell_type": "markdown",
   "metadata": {},
   "source": [
    "#9. Transpose b so that it has the same structure of a (i.e. become a 2x3x5 array). Assign the transposed array to varialbe \"c\".\n"
   ]
  },
  {
   "cell_type": "code",
   "execution_count": 68,
   "metadata": {},
   "outputs": [
    {
     "data": {
      "text/plain": [
       "array([[[1., 1., 1., 1., 1.],\n",
       "        [1., 1., 1., 1., 1.],\n",
       "        [1., 1., 1., 1., 1.]],\n",
       "\n",
       "       [[1., 1., 1., 1., 1.],\n",
       "        [1., 1., 1., 1., 1.],\n",
       "        [1., 1., 1., 1., 1.]]])"
      ]
     },
     "execution_count": 68,
     "metadata": {},
     "output_type": "execute_result"
    }
   ],
   "source": [
    "c = b.transpose()\n",
    "c"
   ]
  },
  {
   "cell_type": "markdown",
   "metadata": {},
   "source": [
    "#10. Try to add a and c. Now it should work. Assign the sum to varialbe \"d\". But why does it work now?\n"
   ]
  },
  {
   "cell_type": "code",
   "execution_count": 79,
   "metadata": {},
   "outputs": [
    {
     "data": {
      "text/plain": [
       "array([[[1.23302493, 1.2106332 , 1.06869775, 1.42805628, 1.14081903],\n",
       "        [1.59865867, 1.42951329, 1.77598043, 1.44024705, 1.00227167],\n",
       "        [1.07560286, 1.60910701, 1.81596811, 1.90093984, 1.79891051]],\n",
       "\n",
       "       [[1.23787472, 1.33592264, 1.58078739, 1.07210151, 1.67419901],\n",
       "        [1.93488717, 1.06290454, 1.84101317, 1.2299838 , 1.94528327],\n",
       "        [1.28812127, 1.96417427, 1.81572125, 1.07778779, 1.15411512]]])"
      ]
     },
     "execution_count": 79,
     "metadata": {},
     "output_type": "execute_result"
    }
   ],
   "source": [
    "d = a + c\n",
    "d\n",
    "# Now the sum is possible since the shape of each matrix is the same"
   ]
  },
  {
   "cell_type": "markdown",
   "metadata": {},
   "source": [
    "#11. Print a and d. Notice the difference and relation of the two array in terms of the values? Explain.\n"
   ]
  },
  {
   "cell_type": "code",
   "execution_count": 28,
   "metadata": {},
   "outputs": [
    {
     "data": {
      "text/plain": [
       "array([[[0.23302493, 0.2106332 , 0.06869775, 0.42805628, 0.14081903],\n",
       "        [0.59865867, 0.42951329, 0.77598043, 0.44024705, 0.00227167],\n",
       "        [0.07560286, 0.60910701, 0.81596811, 0.90093984, 0.79891051]],\n",
       "\n",
       "       [[0.23787472, 0.33592264, 0.58078739, 0.07210151, 0.67419901],\n",
       "        [0.93488717, 0.06290454, 0.84101317, 0.2299838 , 0.94528327],\n",
       "        [0.28812127, 0.96417427, 0.81572125, 0.07778779, 0.15411512]]])"
      ]
     },
     "execution_count": 28,
     "metadata": {},
     "output_type": "execute_result"
    }
   ],
   "source": [
    "a"
   ]
  },
  {
   "cell_type": "code",
   "execution_count": 29,
   "metadata": {},
   "outputs": [
    {
     "data": {
      "text/plain": [
       "array([[[1.23302493, 1.2106332 , 1.06869775, 1.42805628, 1.14081903],\n",
       "        [1.59865867, 1.42951329, 1.77598043, 1.44024705, 1.00227167],\n",
       "        [1.07560286, 1.60910701, 1.81596811, 1.90093984, 1.79891051]],\n",
       "\n",
       "       [[1.23787472, 1.33592264, 1.58078739, 1.07210151, 1.67419901],\n",
       "        [1.93488717, 1.06290454, 1.84101317, 1.2299838 , 1.94528327],\n",
       "        [1.28812127, 1.96417427, 1.81572125, 1.07778779, 1.15411512]]])"
      ]
     },
     "execution_count": 29,
     "metadata": {},
     "output_type": "execute_result"
    }
   ],
   "source": [
    "d"
   ]
  },
  {
   "cell_type": "code",
   "execution_count": null,
   "metadata": {},
   "outputs": [],
   "source": [
    "# The values in the array 'd' are the same as the one in array 'a' with a values of 1 added."
   ]
  },
  {
   "cell_type": "markdown",
   "metadata": {},
   "source": [
    "#12. Multiply a and c. Assign the result to e.\n"
   ]
  },
  {
   "cell_type": "code",
   "execution_count": 31,
   "metadata": {},
   "outputs": [
    {
     "data": {
      "text/plain": [
       "array([[[0.23302493, 0.2106332 , 0.06869775, 0.42805628, 0.14081903],\n",
       "        [0.59865867, 0.42951329, 0.77598043, 0.44024705, 0.00227167],\n",
       "        [0.07560286, 0.60910701, 0.81596811, 0.90093984, 0.79891051]],\n",
       "\n",
       "       [[0.23787472, 0.33592264, 0.58078739, 0.07210151, 0.67419901],\n",
       "        [0.93488717, 0.06290454, 0.84101317, 0.2299838 , 0.94528327],\n",
       "        [0.28812127, 0.96417427, 0.81572125, 0.07778779, 0.15411512]]])"
      ]
     },
     "execution_count": 31,
     "metadata": {},
     "output_type": "execute_result"
    }
   ],
   "source": [
    "e = a * c\n",
    "e"
   ]
  },
  {
   "cell_type": "markdown",
   "metadata": {},
   "source": [
    "#13. Does e equal to a? Why or why not?\n"
   ]
  },
  {
   "cell_type": "code",
   "execution_count": 32,
   "metadata": {},
   "outputs": [
    {
     "data": {
      "text/plain": [
       "array([[[ True,  True,  True,  True,  True],\n",
       "        [ True,  True,  True,  True,  True],\n",
       "        [ True,  True,  True,  True,  True]],\n",
       "\n",
       "       [[ True,  True,  True,  True,  True],\n",
       "        [ True,  True,  True,  True,  True],\n",
       "        [ True,  True,  True,  True,  True]]])"
      ]
     },
     "execution_count": 32,
     "metadata": {},
     "output_type": "execute_result"
    }
   ],
   "source": [
    "e == a\n",
    "# The arrays are equal since we are multiplying the matrix a by the matrix c which has all values of 1"
   ]
  },
  {
   "cell_type": "markdown",
   "metadata": {},
   "source": [
    "#14. Identify the max, min, and mean values in d. Assign those values to variables \"d_max\", \"d_min\", and \"d_mean\"\n"
   ]
  },
  {
   "cell_type": "code",
   "execution_count": 38,
   "metadata": {},
   "outputs": [],
   "source": [
    "d_max = d.max()\n",
    "d_min = d.min()\n",
    "d_mean = d.mean()"
   ]
  },
  {
   "cell_type": "code",
   "execution_count": 40,
   "metadata": {},
   "outputs": [
    {
     "name": "stdout",
     "output_type": "stream",
     "text": [
      "1.964174268386052\n",
      "1.0022716674070091\n",
      "1.458110252279903\n"
     ]
    }
   ],
   "source": [
    "print(d_max)\n",
    "print(d_min)\n",
    "print(d_mean)"
   ]
  },
  {
   "cell_type": "markdown",
   "metadata": {},
   "source": [
    "#15. Now we want to label the values in d. First create an empty array \"f\" with the same shape (i.e. 2x3x5) as d using `np.empty`.\n"
   ]
  },
  {
   "cell_type": "code",
   "execution_count": 44,
   "metadata": {},
   "outputs": [
    {
     "data": {
      "text/plain": [
       "array([[[0.23302493, 0.2106332 , 0.06869775, 0.42805628, 0.14081903],\n",
       "        [0.59865867, 0.42951329, 0.77598043, 0.44024705, 0.00227167],\n",
       "        [0.07560286, 0.60910701, 0.81596811, 0.90093984, 0.79891051]],\n",
       "\n",
       "       [[0.23787472, 0.33592264, 0.58078739, 0.07210151, 0.67419901],\n",
       "        [0.93488717, 0.06290454, 0.84101317, 0.2299838 , 0.94528327],\n",
       "        [0.28812127, 0.96417427, 0.81572125, 0.07778779, 0.15411512]]])"
      ]
     },
     "execution_count": 44,
     "metadata": {},
     "output_type": "execute_result"
    }
   ],
   "source": [
    "f = np.empty((2,3,5))\n",
    "f"
   ]
  },
  {
   "cell_type": "markdown",
   "metadata": {},
   "source": [
    "\n",
    "#16. Populate the values in f. For each value in d, if it's larger than d_min but smaller than d_mean, assign 25 to the corresponding value in f.\n",
    "If a value in d is larger than d_mean but smaller than d_max, assign 75 to the corresponding value in f.\n",
    "If a value equals to d_mean, assign 50 to the corresponding value in f.\n",
    "Assign 0 to the corresponding value(s) in f for d_min in d.\n",
    "Assign 100 to the corresponding value(s) in f for d_max in d.\n",
    "In the end, f should have only the following values: 0, 25, 50, 75, and 100.\n",
    "Note: you don't have to use Numpy in this question.\n",
    "\n",
    "\n"
   ]
  },
  {
   "cell_type": "code",
   "execution_count": 57,
   "metadata": {},
   "outputs": [
    {
     "data": {
      "text/plain": [
       "array([[[1.23302493, 1.2106332 , 1.06869775, 1.42805628, 1.14081903],\n",
       "        [1.59865867, 1.42951329, 1.77598043, 1.44024705, 1.00227167],\n",
       "        [1.07560286, 1.60910701, 1.81596811, 1.90093984, 1.79891051]],\n",
       "\n",
       "       [[1.23787472, 1.33592264, 1.58078739, 1.07210151, 1.67419901],\n",
       "        [1.93488717, 1.06290454, 1.84101317, 1.2299838 , 1.94528327],\n",
       "        [1.28812127, 1.96417427, 1.81572125, 1.07778779, 1.15411512]]])"
      ]
     },
     "execution_count": 57,
     "metadata": {},
     "output_type": "execute_result"
    }
   ],
   "source": [
    "d"
   ]
  },
  {
   "cell_type": "code",
   "execution_count": 82,
   "metadata": {},
   "outputs": [
    {
     "data": {
      "text/plain": [
       "array([[['25', '25', '25', '25', '25'],\n",
       "        ['75', '25', '75', '25', '0'],\n",
       "        ['25', '75', '75', '75', '75']],\n",
       "\n",
       "       [['25', '25', '75', '25', '75'],\n",
       "        ['75', '25', '75', '25', '75'],\n",
       "        ['25', '100', '75', '25', '25']]], dtype='<U32')"
      ]
     },
     "execution_count": 82,
     "metadata": {},
     "output_type": "execute_result"
    }
   ],
   "source": [
    "for i in range(len(d)):\n",
    "    for j in range(len(d[i])):\n",
    "        for k in range(len(d[i][j])):\n",
    "            if d_min < d[i][j][k] < d_mean:\n",
    "                f[i][j][k] = 25\n",
    "            elif d_mean < d[i][j][k] < d_max:\n",
    "                f[i][j][k] = 75\n",
    "            elif d[i][j][k] == d_mean:\n",
    "                f[i][j][k] = 50\n",
    "            elif d[i][j][k] == d_min:\n",
    "                f[i][j][k] = 0\n",
    "            elif d[i][j][k] == d_max:\n",
    "                f[i][j][k] = 100\n",
    "f"
   ]
  },
  {
   "cell_type": "markdown",
   "metadata": {},
   "source": [
    "#17. Print d and f. Do you have your expected f?\n",
    "For instance, if your d is:\n",
    "array([[[1.85836099, 1.67064465, 1.62576044, 1.40243961, 1.88454931],\n",
    "        [1.75354326, 1.69403643, 1.36729252, 1.61415071, 1.12104981],\n",
    "        [1.72201435, 1.1862918 , 1.87078449, 1.7726778 , 1.88180042]],\n",
    "\n",
    "       [[1.44747908, 1.31673383, 1.02000951, 1.52218947, 1.97066381],\n",
    "        [1.79129243, 1.74983003, 1.96028037, 1.85166831, 1.65450881],\n",
    "        [1.18068344, 1.9587381 , 1.00656599, 1.93402165, 1.73514584]]])\n",
    "\n",
    "Your f should be:\n",
    "array([[[ 75.,  75.,  75.,  25.,  75.],\n",
    "        [ 75.,  75.,  25.,  25.,  25.],\n",
    "        [ 75.,  25.,  75.,  75.,  75.]],\n",
    "\n",
    "       [[ 25.,  25.,  25.,  25., 100.],\n",
    "        [ 75.,  75.,  75.,  75.,  75.],\n",
    "        [ 25.,  75.,   0.,  75.,  75.]]])"
   ]
  },
  {
   "cell_type": "code",
   "execution_count": 80,
   "metadata": {},
   "outputs": [
    {
     "data": {
      "text/plain": [
       "array([[[1.23302493, 1.2106332 , 1.06869775, 1.42805628, 1.14081903],\n",
       "        [1.59865867, 1.42951329, 1.77598043, 1.44024705, 1.00227167],\n",
       "        [1.07560286, 1.60910701, 1.81596811, 1.90093984, 1.79891051]],\n",
       "\n",
       "       [[1.23787472, 1.33592264, 1.58078739, 1.07210151, 1.67419901],\n",
       "        [1.93488717, 1.06290454, 1.84101317, 1.2299838 , 1.94528327],\n",
       "        [1.28812127, 1.96417427, 1.81572125, 1.07778779, 1.15411512]]])"
      ]
     },
     "execution_count": 80,
     "metadata": {},
     "output_type": "execute_result"
    }
   ],
   "source": [
    "d"
   ]
  },
  {
   "cell_type": "code",
   "execution_count": 83,
   "metadata": {},
   "outputs": [
    {
     "data": {
      "text/plain": [
       "array([[['25', '25', '25', '25', '25'],\n",
       "        ['75', '25', '75', '25', '0'],\n",
       "        ['25', '75', '75', '75', '75']],\n",
       "\n",
       "       [['25', '25', '75', '25', '75'],\n",
       "        ['75', '25', '75', '25', '75'],\n",
       "        ['25', '100', '75', '25', '25']]], dtype='<U32')"
      ]
     },
     "execution_count": 83,
     "metadata": {},
     "output_type": "execute_result"
    }
   ],
   "source": [
    "f"
   ]
  },
  {
   "cell_type": "markdown",
   "metadata": {},
   "source": [
    "#18. Bonus question: instead of using numbers (i.e. 0, 25, 50, 75, and 100), how to use string values \n",
    "(\"A\", \"B\", \"C\", \"D\", and \"E\") to label the array elements? You are expecting the result to be:\n",
    "array([[[ 'D',  'D',  'D',  'B',  'D'],\n",
    "        [ 'D',  'D',  'B',  'B',  'B'],\n",
    "        [ 'D',  'B',  'D',  'D',  'D']],\n",
    "\n",
    "       [[ 'B',  'B',  'B',  'B',  'E'],\n",
    "        [ 'D',  'D',  'D',  'D',  'D'],\n",
    "        [ 'B',  'D',   'A',  'D', 'D']]])\n",
    "Again, you don't need Numpy in this question."
   ]
  },
  {
   "cell_type": "code",
   "execution_count": 84,
   "metadata": {},
   "outputs": [],
   "source": [
    "f = np.array(d, dtype='str')"
   ]
  },
  {
   "cell_type": "code",
   "execution_count": 85,
   "metadata": {},
   "outputs": [
    {
     "data": {
      "text/plain": [
       "array([[['1.2330249347986553', '1.2106332017364059',\n",
       "         '1.0686977538676552', '1.428056280583149',\n",
       "         '1.1408190316144808'],\n",
       "        ['1.5986586703058925', '1.42951328849671', '1.7759804335768599',\n",
       "         '1.4402470478705671', '1.0022716674070091'],\n",
       "        ['1.0756028614849569', '1.6091070105062444', '1.81596811063738',\n",
       "         '1.9009398439246672', '1.7989105099308977']],\n",
       "\n",
       "       [['1.2378747196050504', '1.3359226370725177',\n",
       "         '1.5807873853173184', '1.0721015136047005',\n",
       "         '1.674199013996898'],\n",
       "        ['1.9348871652677713', '1.062904543901301',\n",
       "         '1.8410131653992243', '1.2299838009613577',\n",
       "         '1.9452832714142119'],\n",
       "        ['1.2881212737683438', '1.964174268386052',\n",
       "         '1.8157212542357954', '1.0777877911721765',\n",
       "         '1.1541151175528355']]], dtype='<U32')"
      ]
     },
     "execution_count": 85,
     "metadata": {},
     "output_type": "execute_result"
    }
   ],
   "source": [
    "f"
   ]
  },
  {
   "cell_type": "code",
   "execution_count": 86,
   "metadata": {},
   "outputs": [
    {
     "data": {
      "text/plain": [
       "array([[['B', 'B', 'B', 'B', 'B'],\n",
       "        ['D', 'B', 'D', 'B', 'A'],\n",
       "        ['B', 'D', 'D', 'D', 'D']],\n",
       "\n",
       "       [['B', 'B', 'D', 'B', 'D'],\n",
       "        ['D', 'B', 'D', 'B', 'D'],\n",
       "        ['B', 'E', 'D', 'B', 'B']]], dtype='<U32')"
      ]
     },
     "execution_count": 86,
     "metadata": {},
     "output_type": "execute_result"
    }
   ],
   "source": [
    "for i in range(len(d)):\n",
    "    for j in range(len(d[i])):\n",
    "        for k in range(len(d[i][j])):\n",
    "            if d_min < d[i][j][k] < d_mean:\n",
    "                f[i][j][k] = 'B'\n",
    "            elif d_mean < d[i][j][k] < d_max:\n",
    "                f[i][j][k] = 'D'\n",
    "            elif d[i][j][k] == d_mean:\n",
    "                f[i][j][k] = 'C'\n",
    "            elif d[i][j][k] == d_min:\n",
    "                f[i][j][k] = 'A'\n",
    "            elif d[i][j][k] == d_max:\n",
    "                f[i][j][k] = 'E'\n",
    "f"
   ]
  },
  {
   "cell_type": "code",
   "execution_count": null,
   "metadata": {},
   "outputs": [],
   "source": []
  }
 ],
 "metadata": {
  "kernelspec": {
   "display_name": "Python 3",
   "language": "python",
   "name": "python3"
  },
  "language_info": {
   "codemirror_mode": {
    "name": "ipython",
    "version": 3
   },
   "file_extension": ".py",
   "mimetype": "text/x-python",
   "name": "python",
   "nbconvert_exporter": "python",
   "pygments_lexer": "ipython3",
   "version": "3.7.2"
  }
 },
 "nbformat": 4,
 "nbformat_minor": 2
}
